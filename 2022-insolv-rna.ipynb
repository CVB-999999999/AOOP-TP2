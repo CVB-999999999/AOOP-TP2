{
 "cells": [
  {
   "cell_type": "code",
   "execution_count": 1,
   "metadata": {
    "execution": {
     "iopub.execute_input": "2022-05-30T21:49:37.543270Z",
     "iopub.status.busy": "2022-05-30T21:49:37.542384Z",
     "iopub.status.idle": "2022-05-30T21:49:37.621743Z",
     "shell.execute_reply": "2022-05-30T21:49:37.620837Z",
     "shell.execute_reply.started": "2022-05-30T21:49:37.543230Z"
    },
    "pycharm": {
     "name": "#%%\n"
    }
   },
   "outputs": [
    {
     "data": {
      "text/plain": "<bound method NDFrame.head of        IUCR  Location Description  Domestic  Beat  District  Ward  \\\n0      1153                     0         1   412         4   8.0   \n1       281                     0         1  2222        22  21.0   \n2       620                     0         1   835         8  18.0   \n3       810                     0         1   313         3  20.0   \n4       281                     0         1   122         1  42.0   \n...     ...                   ...       ...   ...       ...   ...   \n99995   495                     0         1   921         9  15.0   \n99996   820                     0         1   726         7  16.0   \n99997  2024                     0         1  1022        10  24.0   \n99998   820                     0         1   524         5  34.0   \n99999   320                     0         1  1222        12  27.0   \n\n       Community Area  Year  \n0                45.0  2001  \n1                73.0  2017  \n2                70.0  2017  \n3                42.0  2017  \n4                32.0  2017  \n...               ...   ...  \n99995            58.0  2019  \n99996            67.0  2019  \n99997            29.0  2019  \n99998            53.0  2019  \n99999            27.0  2019  \n\n[100000 rows x 8 columns]>"
     },
     "execution_count": 1,
     "metadata": {},
     "output_type": "execute_result"
    }
   ],
   "source": [
    "# -*- coding: utf-8 -*-\n",
    " \n",
    "\n",
    "#Imports\n",
    "import numpy as np\n",
    "import matplotlib.pyplot as plt\n",
    "import pandas as pd\n",
    "from sklearn.model_selection import train_test_split\n",
    "from sklearn.preprocessing import StandardScaler\n",
    "\n",
    "#Importar o Dataset\n",
    " \n",
    "dataset = pd.read_csv('crimes-19-m.csv',sep=',',header=0)\n",
    "\n",
    "dataset = dataset.fillna(0)\n",
    "\n",
    "X = dataset.drop('Arrest', axis=1)   #Colunas usadas para calcular a Insolvencia. Contêm as features\n",
    "y= dataset.Arrest                    #Parametro a ser calculado\n",
    "X.head\n",
    "\n"
   ]
  },
  {
   "cell_type": "code",
   "execution_count": 2,
   "metadata": {
    "execution": {
     "iopub.execute_input": "2022-05-30T21:51:17.316903Z",
     "iopub.status.busy": "2022-05-30T21:51:17.316448Z",
     "iopub.status.idle": "2022-05-30T21:52:05.629120Z",
     "shell.execute_reply": "2022-05-30T21:52:05.628253Z",
     "shell.execute_reply.started": "2022-05-30T21:51:17.316869Z"
    },
    "pycharm": {
     "name": "#%%\n"
    }
   },
   "outputs": [
    {
     "name": "stderr",
     "output_type": "stream",
     "text": [
      "2022-06-18 20:00:07.843708: W tensorflow/stream_executor/platform/default/dso_loader.cc:64] Could not load dynamic library 'libcudart.so.11.0'; dlerror: libcudart.so.11.0: cannot open shared object file: No such file or directory\n",
      "2022-06-18 20:00:07.843770: I tensorflow/stream_executor/cuda/cudart_stub.cc:29] Ignore above cudart dlerror if you do not have a GPU set up on your machine.\n",
      "2022-06-18 20:00:13.104175: I tensorflow/stream_executor/cuda/cuda_gpu_executor.cc:975] successful NUMA node read from SysFS had negative value (-1), but there must be at least one NUMA node, so returning NUMA node zero\n",
      "2022-06-18 20:00:13.105192: W tensorflow/stream_executor/platform/default/dso_loader.cc:64] Could not load dynamic library 'libcudart.so.11.0'; dlerror: libcudart.so.11.0: cannot open shared object file: No such file or directory\n",
      "2022-06-18 20:00:13.105348: W tensorflow/stream_executor/platform/default/dso_loader.cc:64] Could not load dynamic library 'libcublas.so.11'; dlerror: libcublas.so.11: cannot open shared object file: No such file or directory\n",
      "2022-06-18 20:00:13.105454: W tensorflow/stream_executor/platform/default/dso_loader.cc:64] Could not load dynamic library 'libcublasLt.so.11'; dlerror: libcublasLt.so.11: cannot open shared object file: No such file or directory\n",
      "2022-06-18 20:00:13.105549: W tensorflow/stream_executor/platform/default/dso_loader.cc:64] Could not load dynamic library 'libcufft.so.10'; dlerror: libcufft.so.10: cannot open shared object file: No such file or directory\n",
      "2022-06-18 20:00:13.105656: W tensorflow/stream_executor/platform/default/dso_loader.cc:64] Could not load dynamic library 'libcurand.so.10'; dlerror: libcurand.so.10: cannot open shared object file: No such file or directory\n",
      "2022-06-18 20:00:13.105758: W tensorflow/stream_executor/platform/default/dso_loader.cc:64] Could not load dynamic library 'libcusolver.so.11'; dlerror: libcusolver.so.11: cannot open shared object file: No such file or directory\n",
      "2022-06-18 20:00:13.105862: W tensorflow/stream_executor/platform/default/dso_loader.cc:64] Could not load dynamic library 'libcusparse.so.11'; dlerror: libcusparse.so.11: cannot open shared object file: No such file or directory\n",
      "2022-06-18 20:00:13.105967: W tensorflow/stream_executor/platform/default/dso_loader.cc:64] Could not load dynamic library 'libcudnn.so.8'; dlerror: libcudnn.so.8: cannot open shared object file: No such file or directory\n",
      "2022-06-18 20:00:13.105983: W tensorflow/core/common_runtime/gpu/gpu_device.cc:1850] Cannot dlopen some GPU libraries. Please make sure the missing libraries mentioned above are installed properly if you would like to use GPU. Follow the guide at https://www.tensorflow.org/install/gpu for how to download and setup the required libraries for your platform.\n",
      "Skipping registering GPU devices...\n",
      "2022-06-18 20:00:13.106362: I tensorflow/core/platform/cpu_feature_guard.cc:193] This TensorFlow binary is optimized with oneAPI Deep Neural Network Library (oneDNN) to use the following CPU instructions in performance-critical operations:  AVX2 FMA\n",
      "To enable them in other operations, rebuild TensorFlow with the appropriate compiler flags.\n"
     ]
    },
    {
     "name": "stdout",
     "output_type": "stream",
     "text": [
      "Epoch 1/10\n",
      "7000/7000 [==============================] - 16s 2ms/step - loss: 0.8440 - accuracy: 0.8104\n",
      "Epoch 2/10\n",
      "7000/7000 [==============================] - 13s 2ms/step - loss: 0.5001 - accuracy: 0.8172\n",
      "Epoch 3/10\n",
      "7000/7000 [==============================] - 11s 2ms/step - loss: 0.4376 - accuracy: 0.8367\n",
      "Epoch 4/10\n",
      "7000/7000 [==============================] - 10s 1ms/step - loss: 0.3996 - accuracy: 0.8488\n",
      "Epoch 5/10\n",
      "7000/7000 [==============================] - 9s 1ms/step - loss: 0.3949 - accuracy: 0.8507\n",
      "Epoch 6/10\n",
      "7000/7000 [==============================] - 9s 1ms/step - loss: 0.3979 - accuracy: 0.8497\n",
      "Epoch 7/10\n",
      "7000/7000 [==============================] - 9s 1ms/step - loss: 0.4099 - accuracy: 0.8518\n",
      "Epoch 8/10\n",
      "7000/7000 [==============================] - 9s 1ms/step - loss: 0.3994 - accuracy: 0.8556\n",
      "Epoch 9/10\n",
      "7000/7000 [==============================] - 9s 1ms/step - loss: 0.3993 - accuracy: 0.8558\n",
      "Epoch 10/10\n",
      "7000/7000 [==============================] - 9s 1ms/step - loss: 0.3973 - accuracy: 0.8562\n",
      "[0.38624727725982666, 0.8609300255775452]\n"
     ]
    }
   ],
   "source": [
    "#Dividir em conjunto de treino e conjunto de teste\n",
    "X_train, X_test, y_train, y_test = train_test_split(X, y, test_size=0.30, random_state=18)\n",
    "\n",
    "#---------------------Cirar a Rede Neuronal Artificial--------------------------\n",
    "import keras\n",
    "from keras.models import Sequential\n",
    "from keras.layers import Dense\n",
    "from numpy import loadtxt\n",
    "\n",
    "model = Sequential()\n",
    "\n",
    "#Adicionar a Input Layer e a primeira hidden layers\n",
    "model.add(Dense(12, input_dim=8, activation='relu'))\n",
    "model.add(Dense(32, activation='relu'))\n",
    "model.add(Dense(1, activation='sigmoid'))\n",
    "\n",
    "#Compiling the ANN\n",
    "model.compile(loss='binary_crossentropy', optimizer='adam', metrics=['accuracy'])\n",
    "\n",
    "#classifier.fit(X_train, y_train, batch_size = 10, epochs= 100)\n",
    "model.fit(X_train, y_train, epochs=10, batch_size=10)\n",
    "\n",
    "accuracy = model.evaluate(X, y, verbose=0)\n",
    "print(accuracy)\n",
    "\n"
   ]
  },
  {
   "cell_type": "code",
   "execution_count": 3,
   "metadata": {
    "execution": {
     "iopub.execute_input": "2022-05-30T21:55:57.341658Z",
     "iopub.status.busy": "2022-05-30T21:55:57.341193Z"
    },
    "pycharm": {
     "name": "#%%\n"
    }
   },
   "outputs": [
    {
     "name": "stdout",
     "output_type": "stream",
     "text": [
      "Requirement already satisfied: ann_visualizer in /home/c/.config/JetBrains/DataSpell2022.1/projects/workspace/venv/lib/python3.10/site-packages (2.5)\r\n",
      "\u001B[33mWARNING: You are using pip version 21.3.1; however, version 22.1.2 is available.\r\n",
      "You should consider upgrading via the '/home/c/.config/JetBrains/DataSpell2022.1/projects/workspace/venv/bin/python -m pip install --upgrade pip' command.\u001B[0m\r\n",
      "Requirement already satisfied: graphviz in /home/c/.config/JetBrains/DataSpell2022.1/projects/workspace/venv/lib/python3.10/site-packages (0.20)\r\n",
      "\u001B[33mWARNING: You are using pip version 21.3.1; however, version 22.1.2 is available.\r\n",
      "You should consider upgrading via the '/home/c/.config/JetBrains/DataSpell2022.1/projects/workspace/venv/bin/python -m pip install --upgrade pip' command.\u001B[0m\r\n"
     ]
    }
   ],
   "source": [
    "#Grafico da rede neuronal\n",
    "!pip3 install ann_visualizer\n",
    "!pip install graphviz"
   ]
  },
  {
   "cell_type": "code",
   "execution_count": 4,
   "metadata": {
    "execution": {
     "iopub.execute_input": "2022-05-30T21:52:11.860752Z",
     "iopub.status.busy": "2022-05-30T21:52:11.859624Z",
     "iopub.status.idle": "2022-05-30T21:55:14.341386Z",
     "shell.execute_reply": "2022-05-30T21:55:14.339580Z",
     "shell.execute_reply.started": "2022-05-30T21:52:11.860710Z"
    },
    "pycharm": {
     "name": "#%%\n"
    }
   },
   "outputs": [],
   "source": [
    "\n",
    "from ann_visualizer.visualize import ann_viz;\n",
    "ann_viz(model, title=\"Visualização da Rede Neuronal Prisao\")"
   ]
  },
  {
   "cell_type": "code",
   "execution_count": 6,
   "metadata": {
    "pycharm": {
     "name": "#%%\n"
    }
   },
   "outputs": [
    {
     "name": "stdout",
     "output_type": "stream",
     "text": [
      "1/1 [==============================] - 0s 118ms/step\n",
      "Probabilidade de NÃO Prisao, Probabilidade=0\n",
      "Requirement already satisfied: ann_visualizer in /home/c/.config/JetBrains/DataSpell2022.1/projects/workspace/venv/lib/python3.10/site-packages (2.5)\r\n",
      "\u001B[33mWARNING: You are using pip version 21.3.1; however, version 22.1.2 is available.\r\n",
      "You should consider upgrading via the '/home/c/.config/JetBrains/DataSpell2022.1/projects/workspace/venv/bin/python -m pip install --upgrade pip' command.\u001B[0m\r\n",
      "Requirement already satisfied: graphviz in /home/c/.config/JetBrains/DataSpell2022.1/projects/workspace/venv/lib/python3.10/site-packages (0.20)\r\n",
      "\u001B[33mWARNING: You are using pip version 21.3.1; however, version 22.1.2 is available.\r\n",
      "You should consider upgrading via the '/home/c/.config/JetBrains/DataSpell2022.1/projects/workspace/venv/bin/python -m pip install --upgrade pip' command.\u001B[0m\r\n"
     ]
    }
   ],
   "source": [
    "#Carregar novo dado\n",
    "dataset = pd.read_csv('crimes-novo.csv',sep=',',header=0)\n",
    "X_new = dataset.drop('Arrest', axis=1)   #Colunas usadas para calcular a Insolvencia. Contêm as features\n",
    "\n",
    "\n",
    "#Fazer a previsão de y - Insolvência\n",
    "# predictions = model.predict_classes(X_new)\n",
    "predictions = np.argmax(model.predict(X_new),axis=1)\n",
    "\n",
    "if predictions[0] == 0:\n",
    "  print(\"Probabilidade de NÃO Prisao, Probabilidade=%s\" % (predictions[0]))\n",
    "else:\n",
    "  print(\"Probabilidade de Prisao, Probabilidade=%s\" % (predictions[0]))\n",
    "\n",
    "#Grafico da rede neuronal\n",
    "!pip3 install ann_visualizer\n",
    "!pip install graphviz\n",
    "\n",
    "from ann_visualizer.visualize import ann_viz;\n",
    "ann_viz(model, title=\"Visualização da Rede Neuronal Prisao\")"
   ]
  },
  {
   "cell_type": "code",
   "execution_count": null,
   "metadata": {
    "pycharm": {
     "name": "#%%\n"
    }
   },
   "outputs": [],
   "source": []
  }
 ],
 "metadata": {
  "kernelspec": {
   "display_name": "Python 3 (ipykernel)",
   "language": "python",
   "name": "python3"
  },
  "language_info": {
   "codemirror_mode": {
    "name": "ipython",
    "version": 3
   },
   "file_extension": ".py",
   "mimetype": "text/x-python",
   "name": "python",
   "nbconvert_exporter": "python",
   "pygments_lexer": "ipython3",
   "version": "3.10.4"
  }
 },
 "nbformat": 4,
 "nbformat_minor": 4
}