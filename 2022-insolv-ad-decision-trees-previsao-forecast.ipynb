{
 "cells": [
  {
   "cell_type": "code",
   "execution_count": 12,
   "metadata": {
    "execution": {
     "iopub.execute_input": "2022-05-31T12:47:54.215428Z",
     "iopub.status.busy": "2022-05-31T12:47:54.214942Z",
     "iopub.status.idle": "2022-05-31T12:47:55.748956Z",
     "shell.execute_reply": "2022-05-31T12:47:55.747932Z",
     "shell.execute_reply.started": "2022-05-31T12:47:54.215329Z"
    },
    "pycharm": {
     "name": "#%%\n"
    }
   },
   "outputs": [
    {
     "data": {
      "text/plain": "       IUCR  Location Description  Arrest  Domestic  Beat  District  Ward  \\\n99995   495                     0       1         1   921         9  15.0   \n99996   820                     0       1         1   726         7  16.0   \n99997  2024                     0       0         1  1022        10  24.0   \n99998   820                     0       1         1   524         5  34.0   \n99999   320                     0       1         1  1222        12  27.0   \n\n       Community Area  Year  \n99995            58.0  2019  \n99996            67.0  2019  \n99997            29.0  2019  \n99998            53.0  2019  \n99999            27.0  2019  ",
      "text/html": "<div>\n<style scoped>\n    .dataframe tbody tr th:only-of-type {\n        vertical-align: middle;\n    }\n\n    .dataframe tbody tr th {\n        vertical-align: top;\n    }\n\n    .dataframe thead th {\n        text-align: right;\n    }\n</style>\n<table border=\"1\" class=\"dataframe\">\n  <thead>\n    <tr style=\"text-align: right;\">\n      <th></th>\n      <th>IUCR</th>\n      <th>Location Description</th>\n      <th>Arrest</th>\n      <th>Domestic</th>\n      <th>Beat</th>\n      <th>District</th>\n      <th>Ward</th>\n      <th>Community Area</th>\n      <th>Year</th>\n    </tr>\n  </thead>\n  <tbody>\n    <tr>\n      <th>99995</th>\n      <td>495</td>\n      <td>0</td>\n      <td>1</td>\n      <td>1</td>\n      <td>921</td>\n      <td>9</td>\n      <td>15.0</td>\n      <td>58.0</td>\n      <td>2019</td>\n    </tr>\n    <tr>\n      <th>99996</th>\n      <td>820</td>\n      <td>0</td>\n      <td>1</td>\n      <td>1</td>\n      <td>726</td>\n      <td>7</td>\n      <td>16.0</td>\n      <td>67.0</td>\n      <td>2019</td>\n    </tr>\n    <tr>\n      <th>99997</th>\n      <td>2024</td>\n      <td>0</td>\n      <td>0</td>\n      <td>1</td>\n      <td>1022</td>\n      <td>10</td>\n      <td>24.0</td>\n      <td>29.0</td>\n      <td>2019</td>\n    </tr>\n    <tr>\n      <th>99998</th>\n      <td>820</td>\n      <td>0</td>\n      <td>1</td>\n      <td>1</td>\n      <td>524</td>\n      <td>5</td>\n      <td>34.0</td>\n      <td>53.0</td>\n      <td>2019</td>\n    </tr>\n    <tr>\n      <th>99999</th>\n      <td>320</td>\n      <td>0</td>\n      <td>1</td>\n      <td>1</td>\n      <td>1222</td>\n      <td>12</td>\n      <td>27.0</td>\n      <td>27.0</td>\n      <td>2019</td>\n    </tr>\n  </tbody>\n</table>\n</div>"
     },
     "execution_count": 12,
     "metadata": {},
     "output_type": "execute_result"
    }
   ],
   "source": [
    "# -*- coding: utf-8 -*-\n",
    "## Exemplo de Criação de um modelo de Previsão/Classificação usando as Arvores de Decisão\n",
    "## Example of Creating a Forecast/Classification model using Decision Trees\n",
    "\n",
    "## import\n",
    "import numpy as np\n",
    "import pandas as pd\n",
    "import seaborn as sns\n",
    "from sklearn.model_selection import train_test_split\n",
    "from sklearn.tree import DecisionTreeClassifier\n",
    "from sklearn import metrics\n",
    "\n",
    "## carregar o ficheiro Insol para um dataframe do pandas dInsol\n",
    "## load the Insol file into a pandas dInsol dataframe\n",
    "dInsol = pd.read_csv('crimes-19-m.csv',sep=',',header=0, low_memory=False)\n",
    "\n",
    "dInsol = dInsol.fillna(0)\n",
    "\n",
    "dInsol.head(2)     #Mostra as primeiras n linhas do conjunto de dados\n",
    "dInsol.tail(5)     #Mostra as últimas n linhas do conjunto de dados"
   ]
  },
  {
   "cell_type": "code",
   "execution_count": 13,
   "metadata": {
    "execution": {
     "iopub.execute_input": "2022-05-31T12:49:36.795425Z",
     "iopub.status.busy": "2022-05-31T12:49:36.794774Z",
     "iopub.status.idle": "2022-05-31T12:49:36.869883Z",
     "shell.execute_reply": "2022-05-31T12:49:36.869174Z",
     "shell.execute_reply.started": "2022-05-31T12:49:36.795379Z"
    },
    "pycharm": {
     "name": "#%%\n"
    }
   },
   "outputs": [
    {
     "data": {
      "text/plain": "DecisionTreeClassifier()",
      "text/html": "<style>#sk-container-id-1 {color: black;background-color: white;}#sk-container-id-1 pre{padding: 0;}#sk-container-id-1 div.sk-toggleable {background-color: white;}#sk-container-id-1 label.sk-toggleable__label {cursor: pointer;display: block;width: 100%;margin-bottom: 0;padding: 0.3em;box-sizing: border-box;text-align: center;}#sk-container-id-1 label.sk-toggleable__label-arrow:before {content: \"▸\";float: left;margin-right: 0.25em;color: #696969;}#sk-container-id-1 label.sk-toggleable__label-arrow:hover:before {color: black;}#sk-container-id-1 div.sk-estimator:hover label.sk-toggleable__label-arrow:before {color: black;}#sk-container-id-1 div.sk-toggleable__content {max-height: 0;max-width: 0;overflow: hidden;text-align: left;background-color: #f0f8ff;}#sk-container-id-1 div.sk-toggleable__content pre {margin: 0.2em;color: black;border-radius: 0.25em;background-color: #f0f8ff;}#sk-container-id-1 input.sk-toggleable__control:checked~div.sk-toggleable__content {max-height: 200px;max-width: 100%;overflow: auto;}#sk-container-id-1 input.sk-toggleable__control:checked~label.sk-toggleable__label-arrow:before {content: \"▾\";}#sk-container-id-1 div.sk-estimator input.sk-toggleable__control:checked~label.sk-toggleable__label {background-color: #d4ebff;}#sk-container-id-1 div.sk-label input.sk-toggleable__control:checked~label.sk-toggleable__label {background-color: #d4ebff;}#sk-container-id-1 input.sk-hidden--visually {border: 0;clip: rect(1px 1px 1px 1px);clip: rect(1px, 1px, 1px, 1px);height: 1px;margin: -1px;overflow: hidden;padding: 0;position: absolute;width: 1px;}#sk-container-id-1 div.sk-estimator {font-family: monospace;background-color: #f0f8ff;border: 1px dotted black;border-radius: 0.25em;box-sizing: border-box;margin-bottom: 0.5em;}#sk-container-id-1 div.sk-estimator:hover {background-color: #d4ebff;}#sk-container-id-1 div.sk-parallel-item::after {content: \"\";width: 100%;border-bottom: 1px solid gray;flex-grow: 1;}#sk-container-id-1 div.sk-label:hover label.sk-toggleable__label {background-color: #d4ebff;}#sk-container-id-1 div.sk-serial::before {content: \"\";position: absolute;border-left: 1px solid gray;box-sizing: border-box;top: 0;bottom: 0;left: 50%;z-index: 0;}#sk-container-id-1 div.sk-serial {display: flex;flex-direction: column;align-items: center;background-color: white;padding-right: 0.2em;padding-left: 0.2em;position: relative;}#sk-container-id-1 div.sk-item {position: relative;z-index: 1;}#sk-container-id-1 div.sk-parallel {display: flex;align-items: stretch;justify-content: center;background-color: white;position: relative;}#sk-container-id-1 div.sk-item::before, #sk-container-id-1 div.sk-parallel-item::before {content: \"\";position: absolute;border-left: 1px solid gray;box-sizing: border-box;top: 0;bottom: 0;left: 50%;z-index: -1;}#sk-container-id-1 div.sk-parallel-item {display: flex;flex-direction: column;z-index: 1;position: relative;background-color: white;}#sk-container-id-1 div.sk-parallel-item:first-child::after {align-self: flex-end;width: 50%;}#sk-container-id-1 div.sk-parallel-item:last-child::after {align-self: flex-start;width: 50%;}#sk-container-id-1 div.sk-parallel-item:only-child::after {width: 0;}#sk-container-id-1 div.sk-dashed-wrapped {border: 1px dashed gray;margin: 0 0.4em 0.5em 0.4em;box-sizing: border-box;padding-bottom: 0.4em;background-color: white;}#sk-container-id-1 div.sk-label label {font-family: monospace;font-weight: bold;display: inline-block;line-height: 1.2em;}#sk-container-id-1 div.sk-label-container {text-align: center;}#sk-container-id-1 div.sk-container {/* jupyter's `normalize.less` sets `[hidden] { display: none; }` but bootstrap.min.css set `[hidden] { display: none !important; }` so we also need the `!important` here to be able to override the default hidden behavior on the sphinx rendered scikit-learn.org. See: https://github.com/scikit-learn/scikit-learn/issues/21755 */display: inline-block !important;position: relative;}#sk-container-id-1 div.sk-text-repr-fallback {display: none;}</style><div id=\"sk-container-id-1\" class=\"sk-top-container\"><div class=\"sk-text-repr-fallback\"><pre>DecisionTreeClassifier()</pre><b>In a Jupyter environment, please rerun this cell to show the HTML representation or trust the notebook. <br />On GitHub, the HTML representation is unable to render, please try loading this page with nbviewer.org.</b></div><div class=\"sk-container\" hidden><div class=\"sk-item\"><div class=\"sk-estimator sk-toggleable\"><input class=\"sk-toggleable__control sk-hidden--visually\" id=\"sk-estimator-id-1\" type=\"checkbox\" checked><label for=\"sk-estimator-id-1\" class=\"sk-toggleable__label sk-toggleable__label-arrow\">DecisionTreeClassifier</label><div class=\"sk-toggleable__content\"><pre>DecisionTreeClassifier()</pre></div></div></div></div></div>"
     },
     "execution_count": 13,
     "metadata": {},
     "output_type": "execute_result"
    }
   ],
   "source": [
    "\n",
    "## Pre-processamento dividir os dados em conjunto de Treino e Teste\n",
    "## Pre-processing split data into Training and Test sets\n",
    "x = dInsol.drop('Arrest' ,axis=1)   #Todas as tabelas que são usadas para fazer a predict\n",
    "y = dInsol.Arrest                   #Resultados entre 1 e 0 8Insolvência ou não Insolvênvia)\n",
    "\n",
    "## Function train_test_split\n",
    "x_train, x_teste, y_train, y_teste = train_test_split(x, y, test_size=0.50, random_state=18)\n",
    "\n",
    "## Treinar o modelo\n",
    "## Train the model\n",
    "DecisionTree_Class_Model = DecisionTreeClassifier()\n",
    "DecisionTree_Class_Model.fit(x_train, y_train)\n",
    "\n"
   ]
  },
  {
   "cell_type": "code",
   "execution_count": null,
   "metadata": {
    "execution": {
     "iopub.execute_input": "2022-05-31T12:49:38.928374Z",
     "iopub.status.busy": "2022-05-31T12:49:38.927777Z",
     "iopub.status.idle": "2022-05-31T12:49:40.532284Z",
     "shell.execute_reply": "2022-05-31T12:49:40.531173Z",
     "shell.execute_reply.started": "2022-05-31T12:49:38.928338Z"
    },
    "pycharm": {
     "name": "#%%\n",
     "is_executing": true
    }
   },
   "outputs": [],
   "source": [
    "##Previsao/Forecasting\n",
    "y_pred = DecisionTree_Class_Model.predict(x_teste)\n",
    "y_pred\n",
    "\n",
    "##Accuracy Score\n",
    "accuracy = metrics.accuracy_score(y_teste, y_pred)\n",
    "accuracy\n",
    "\n",
    "##Matriz da confusão\n",
    "from sklearn.metrics import confusion_matrix\n",
    "\n",
    "pd.DataFrame(\n",
    "    confusion_matrix(y_teste, y_pred),\n",
    "    columns=['Previsão de Insolvência', 'Previsão de Não Insolvência'],\n",
    "    index=['Realidade de Insolvência', 'Realidade de Não Insolvência']\n",
    ")\n",
    "\n",
    "from sklearn import tree\n",
    "\n",
    "model = tree.DecisionTreeClassifier()\n",
    "model.fit(x_train, y_train)\n",
    "\n",
    "tree.export_graphviz(model, out_file='tree.dot', feature_names=x.columns)\n",
    "from subprocess import call\n",
    "\n",
    "call(['dot', '-T', 'png', 'tree.dot', '-o', 'tree.png'])\n",
    "\n",
    "from IPython.display import Image\n",
    "Image(filename = 'tree.png')\n",
    "\n",
    "\n",
    "\n"
   ]
  },
  {
   "cell_type": "code",
   "execution_count": null,
   "metadata": {
    "execution": {
     "iopub.execute_input": "2022-05-31T12:49:47.854120Z",
     "iopub.status.busy": "2022-05-31T12:49:47.853441Z",
     "iopub.status.idle": "2022-05-31T12:49:47.859405Z",
     "shell.execute_reply": "2022-05-31T12:49:47.858435Z",
     "shell.execute_reply.started": "2022-05-31T12:49:47.854059Z"
    },
    "pycharm": {
     "name": "#%%\n",
     "is_executing": true
    }
   },
   "outputs": [],
   "source": [
    "##Guardar o modelo num ficheiro com o pickle\n",
    "##Save the model to a file with pickle\n",
    "import pickle\n",
    "\n",
    "filename = 'modelo_final.sav'\n",
    "pickle.dump(model, open(filename, 'wb'))"
   ]
  },
  {
   "cell_type": "code",
   "execution_count": null,
   "metadata": {
    "execution": {
     "iopub.execute_input": "2022-05-31T12:52:56.043335Z",
     "iopub.status.busy": "2022-05-31T12:52:56.042645Z",
     "iopub.status.idle": "2022-05-31T12:52:56.087394Z",
     "shell.execute_reply": "2022-05-31T12:52:56.086636Z",
     "shell.execute_reply.started": "2022-05-31T12:52:56.043299Z"
    },
    "pycharm": {
     "name": "#%%\n",
     "is_executing": true
    }
   },
   "outputs": [],
   "source": [
    "# load the model from disk\n",
    "loaded_model = pickle.load(open(filename, 'rb'))\n",
    "result = loaded_model.score(x_teste, y_teste)\n",
    "print(result)\n",
    "\n",
    "#Fazer uma previsão\n",
    "# make a prediction\n",
    "import pickle\n",
    "loaded_model = pickle.load(open('modelo_final.sav', 'rb'))    #Importar o modelo guardado #Import the saved model\n",
    "\n",
    "dNew = pd.read_csv('Insoltestennewcasex.csv',sep=';',header=0)\n",
    "dNew = dNew.drop('Insolvencia', axis=1)   #Remover a tabela Insolvencia  #Remove the Insolvency table     \n",
    "dNew.head(2)     #Mostra as primeiras n linhas do conjunto de dados   Display the first n rows of the dataset \n",
    "\n"
   ]
  },
  {
   "cell_type": "code",
   "execution_count": null,
   "metadata": {
    "execution": {
     "iopub.execute_input": "2022-05-31T12:52:59.189865Z",
     "iopub.status.busy": "2022-05-31T12:52:59.189159Z",
     "iopub.status.idle": "2022-05-31T12:52:59.199478Z",
     "shell.execute_reply": "2022-05-31T12:52:59.198414Z",
     "shell.execute_reply.started": "2022-05-31T12:52:59.189825Z"
    },
    "pycharm": {
     "name": "#%%\n",
     "is_executing": true
    }
   },
   "outputs": [],
   "source": [
    "yNew = pd.Series(loaded_model.predict(dNew))\n",
    "if yNew[0] == 0:\n",
    "  print(\"Probabilidade de NÃO Insolvência, Probabilidade=%s\" % (yNew[0]))\n",
    "else:\n",
    "   print(\"Probabilidade de Insolvência, Probabilidade=%s\" % (yNew[0]))"
   ]
  }
 ],
 "metadata": {
  "kernelspec": {
   "display_name": "Python 3 (ipykernel)",
   "language": "python",
   "name": "python3"
  },
  "language_info": {
   "codemirror_mode": {
    "name": "ipython",
    "version": 3
   },
   "file_extension": ".py",
   "mimetype": "text/x-python",
   "name": "python",
   "nbconvert_exporter": "python",
   "pygments_lexer": "ipython3",
   "version": "3.10.4"
  }
 },
 "nbformat": 4,
 "nbformat_minor": 4
}